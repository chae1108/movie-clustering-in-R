{
 "cells": [
  {
   "cell_type": "markdown",
   "metadata": {},
   "source": [
    "### Movie Lens Dataset\n",
    "Data from Movie Lens are used to cluster movies into different groups based on genre."
   ]
  },
  {
   "cell_type": "code",
   "execution_count": 1,
   "metadata": {
    "collapsed": true
   },
   "outputs": [],
   "source": [
    "movies = read.csv(\"movies.txt\", header=FALSE, sep=\"|\", quote=\"\\\"\")"
   ]
  },
  {
   "cell_type": "code",
   "execution_count": 3,
   "metadata": {
    "collapsed": false
   },
   "outputs": [],
   "source": [
    "colnames(movies)=c(\"ID\",\"Title\",\"ReleaseDate\",\"VideoReleaseDate\",\"IMDB\",\"Unknown\",\"Action\",\"Adventure\",\"Animation\",\"Childrens\",\n",
    "              \"Comedy\",\"Crime\",\"Documentary\",\"Drama\",\"Fantasy\",\"FilmNoir\",\"Horror\",\"Musical\",\"Mystery\",\"Romance\",\n",
    "               \"SciFi\",\"Thriller\",\"War\",\"Western\")"
   ]
  },
  {
   "cell_type": "code",
   "execution_count": 5,
   "metadata": {
    "collapsed": false
   },
   "outputs": [],
   "source": [
    "movies$ID=NULL\n",
    "movies$ReleaseDate=NULL\n",
    "movies$VideoReleaseDate=NULL\n",
    "movies$IMDB=NULL"
   ]
  },
  {
   "cell_type": "code",
   "execution_count": 6,
   "metadata": {
    "collapsed": true
   },
   "outputs": [],
   "source": [
    "movies=unique(movies)"
   ]
  },
  {
   "cell_type": "code",
   "execution_count": 7,
   "metadata": {
    "collapsed": false
   },
   "outputs": [
    {
     "name": "stdout",
     "output_type": "stream",
     "text": [
      "'data.frame':\t1664 obs. of  20 variables:\n",
      " $ Title      : Factor w/ 1664 levels \"'Til There Was You (1997)\",..: 1525 618 555 594 344 1318 1545 111 391 1240 ...\n",
      " $ Unknown    : int  0 0 0 0 0 0 0 0 0 0 ...\n",
      " $ Action     : int  0 1 0 1 0 0 0 0 0 0 ...\n",
      " $ Adventure  : int  0 1 0 0 0 0 0 0 0 0 ...\n",
      " $ Animation  : int  1 0 0 0 0 0 0 0 0 0 ...\n",
      " $ Childrens  : int  1 0 0 0 0 0 0 1 0 0 ...\n",
      " $ Comedy     : int  1 0 0 1 0 0 0 1 0 0 ...\n",
      " $ Crime      : int  0 0 0 0 1 0 0 0 0 0 ...\n",
      " $ Documentary: int  0 0 0 0 0 0 0 0 0 0 ...\n",
      " $ Drama      : int  0 0 0 1 1 1 1 1 1 1 ...\n",
      " $ Fantasy    : int  0 0 0 0 0 0 0 0 0 0 ...\n",
      " $ FilmNoir   : int  0 0 0 0 0 0 0 0 0 0 ...\n",
      " $ Horror     : int  0 0 0 0 0 0 0 0 0 0 ...\n",
      " $ Musical    : int  0 0 0 0 0 0 0 0 0 0 ...\n",
      " $ Mystery    : int  0 0 0 0 0 0 0 0 0 0 ...\n",
      " $ Romance    : int  0 0 0 0 0 0 0 0 0 0 ...\n",
      " $ SciFi      : int  0 0 0 0 0 0 1 0 0 0 ...\n",
      " $ Thriller   : int  0 1 1 0 1 0 0 0 0 0 ...\n",
      " $ War        : int  0 0 0 0 0 0 0 0 0 1 ...\n",
      " $ Western    : int  0 0 0 0 0 0 0 0 0 0 ...\n"
     ]
    }
   ],
   "source": [
    "str(movies)"
   ]
  },
  {
   "cell_type": "code",
   "execution_count": 8,
   "metadata": {
    "collapsed": true
   },
   "outputs": [],
   "source": [
    "distance=dist(movies[2:20],method='euclidean')"
   ]
  },
  {
   "cell_type": "code",
   "execution_count": 9,
   "metadata": {
    "collapsed": false
   },
   "outputs": [],
   "source": [
    "clusterMovies=hclust(distance,method='ward.D')"
   ]
  },
  {
   "cell_type": "code",
   "execution_count": 10,
   "metadata": {
    "collapsed": false
   },
   "outputs": [
    {
     "data": {
      "image/png": "[encoded data removed]",
      "text/plain": [
       "Plot with title \"Cluster Dendrogram\""
      ]
     },
     "metadata": {
      "image/svg+xml": {
       "isolated": true
      }
     },
     "output_type": "display_data"
    }
   ],
   "source": [
    "# create a dendrogram for movies\n",
    "plot(clusterMovies)"
   ]
  },
  {
   "cell_type": "code",
   "execution_count": 11,
   "metadata": {
    "collapsed": true
   },
   "outputs": [],
   "source": [
    "clusterGroups=cutree(clusterMovies,k=10)"
   ]
  },
  {
   "cell_type": "code",
   "execution_count": 13,
   "metadata": {
    "collapsed": false
   },
   "outputs": [
    {
     "ename": "ERROR",
     "evalue": "Error in dn[[2L]]: subscript out of bounds\n",
     "output_type": "error",
     "traceback": [
      "Error in dn[[2L]]: subscript out of bounds\nTraceback:\n",
      "1. tryCatch({\n .     for (mime in getOption(\"jupyter.display_mimetypes\")) {\n .         r <- mime2repr[[mime]](obj)\n .         if (!is.null(r)) \n .             data[[mime]] <- r\n .     }\n . }, error = handle_error)"
     ]
    },
    {
     "data": {
      "text/html": [
       "<dl class=dl-horizontal>\n",
       "\t<dt>1</dt>\n",
       "\t\t<dd>0.178451178451178</dd>\n",
       "\t<dt>2</dt>\n",
       "\t\t<dd>0.78391959798995</dd>\n",
       "\t<dt>3</dt>\n",
       "\t\t<dd>0.123853211009174</dd>\n",
       "\t<dt>4</dt>\n",
       "\t\t<dd>0</dd>\n",
       "\t<dt>5</dt>\n",
       "\t\t<dd>0</dd>\n",
       "\t<dt>6</dt>\n",
       "\t\t<dd>0.1015625</dd>\n",
       "\t<dt>7</dt>\n",
       "\t\t<dd>0</dd>\n",
       "\t<dt>8</dt>\n",
       "\t\t<dd>0</dd>\n",
       "\t<dt>9</dt>\n",
       "\t\t<dd>0</dd>\n",
       "\t<dt>10</dt>\n",
       "\t\t<dd>0</dd>\n",
       "</dl>\n"
      ],
      "text/markdown": [
       "1\n",
       ":   0.1784511784511782\n",
       ":   0.783919597989953\n",
       ":   0.1238532110091744\n",
       ":   05\n",
       ":   06\n",
       ":   0.10156257\n",
       ":   08\n",
       ":   09\n",
       ":   010\n",
       ":   0\n",
       "\n"
      ],
      "text/plain": [
       "        1         2         3         4         5         6         7         8 \n",
       "0.1784512 0.7839196 0.1238532 0.0000000 0.0000000 0.1015625 0.0000000 0.0000000 \n",
       "        9        10 \n",
       "0.0000000 0.0000000 "
      ]
     },
     "metadata": {},
     "output_type": "display_data"
    }
   ],
   "source": [
    "tapply(movies$Action,clusterGroups,mean)"
   ]
  },
  {
   "cell_type": "code",
   "execution_count": 14,
   "metadata": {
    "collapsed": false
   },
   "outputs": [
    {
     "ename": "ERROR",
     "evalue": "Error in dn[[2L]]: subscript out of bounds\n",
     "output_type": "error",
     "traceback": [
      "Error in dn[[2L]]: subscript out of bounds\nTraceback:\n",
      "1. tryCatch({\n .     for (mime in getOption(\"jupyter.display_mimetypes\")) {\n .         r <- mime2repr[[mime]](obj)\n .         if (!is.null(r)) \n .             data[[mime]] <- r\n .     }\n . }, error = handle_error)"
     ]
    },
    {
     "data": {
      "text/html": [
       "<dl class=dl-horizontal>\n",
       "\t<dt>1</dt>\n",
       "\t\t<dd>0.104377104377104</dd>\n",
       "\t<dt>2</dt>\n",
       "\t\t<dd>0.0452261306532663</dd>\n",
       "\t<dt>3</dt>\n",
       "\t\t<dd>0.036697247706422</dd>\n",
       "\t<dt>4</dt>\n",
       "\t\t<dd>0</dd>\n",
       "\t<dt>5</dt>\n",
       "\t\t<dd>0</dd>\n",
       "\t<dt>6</dt>\n",
       "\t\t<dd>1</dd>\n",
       "\t<dt>7</dt>\n",
       "\t\t<dd>1</dd>\n",
       "\t<dt>8</dt>\n",
       "\t\t<dd>0</dd>\n",
       "\t<dt>9</dt>\n",
       "\t\t<dd>0</dd>\n",
       "\t<dt>10</dt>\n",
       "\t\t<dd>0</dd>\n",
       "</dl>\n"
      ],
      "text/markdown": [
       "1\n",
       ":   0.1043771043771042\n",
       ":   0.04522613065326633\n",
       ":   0.0366972477064224\n",
       ":   05\n",
       ":   06\n",
       ":   17\n",
       ":   18\n",
       ":   09\n",
       ":   010\n",
       ":   0\n",
       "\n"
      ],
      "text/plain": [
       "         1          2          3          4          5          6          7 \n",
       "0.10437710 0.04522613 0.03669725 0.00000000 0.00000000 1.00000000 1.00000000 \n",
       "         8          9         10 \n",
       "0.00000000 0.00000000 0.00000000 "
      ]
     },
     "metadata": {},
     "output_type": "display_data"
    }
   ],
   "source": [
    "tapply(movies$Romance,clusterGroups,mean)"
   ]
  },
  {
   "cell_type": "code",
   "execution_count": 15,
   "metadata": {
    "collapsed": false
   },
   "outputs": [
    {
     "data": {
      "text/html": [
       "<table>\n",
       "<thead><tr><th></th><th scope=col>Title</th><th scope=col>Unknown</th><th scope=col>Action</th><th scope=col>Adventure</th><th scope=col>Animation</th><th scope=col>Childrens</th><th scope=col>Comedy</th><th scope=col>Crime</th><th scope=col>Documentary</th><th scope=col>Drama</th><th scope=col>Fantasy</th><th scope=col>FilmNoir</th><th scope=col>Horror</th><th scope=col>Musical</th><th scope=col>Mystery</th><th scope=col>Romance</th><th scope=col>SciFi</th><th scope=col>Thriller</th><th scope=col>War</th><th scope=col>Western</th></tr></thead>\n",
       "<tbody>\n",
       "\t<tr><th scope=row>11</th><td>Seven (Se7en) (1995)</td><td>0                   </td><td>0                   </td><td>0                   </td><td>0                   </td><td>0                   </td><td>0                   </td><td>1                   </td><td>0                   </td><td>0                   </td><td>0                   </td><td>0                   </td><td>0                   </td><td>0                   </td><td>0                   </td><td>0                   </td><td>0                   </td><td>1                   </td><td>0                   </td><td>0                   </td></tr>\n",
       "</tbody>\n",
       "</table>\n"
      ],
      "text/latex": [
       "\\begin{tabular}{r|llllllllllllllllllll}\n",
       "  & Title & Unknown & Action & Adventure & Animation & Childrens & Comedy & Crime & Documentary & Drama & Fantasy & FilmNoir & Horror & Musical & Mystery & Romance & SciFi & Thriller & War & Western\\\\\n",
       "\\hline\n",
       "\t11 & Seven (Se7en) (1995) & 0                    & 0                    & 0                    & 0                    & 0                    & 0                    & 1                    & 0                    & 0                    & 0                    & 0                    & 0                    & 0                    & 0                    & 0                    & 0                    & 1                    & 0                    & 0                   \\\\\n",
       "\\end{tabular}\n"
      ],
      "text/plain": [
       "                  Title Unknown Action Adventure Animation Childrens Comedy\n",
       "11 Seven (Se7en) (1995)       0      0         0         0         0      0\n",
       "   Crime Documentary Drama Fantasy FilmNoir Horror Musical Mystery Romance\n",
       "11     1           0     0       0        0      0       0       0       0\n",
       "   SciFi Thriller War Western\n",
       "11     0        1   0       0"
      ]
     },
     "metadata": {},
     "output_type": "display_data"
    }
   ],
   "source": [
    "subset(movies,Title==\"Seven (Se7en) (1995)\")"
   ]
  },
  {
   "cell_type": "code",
   "execution_count": 16,
   "metadata": {
    "collapsed": false
   },
   "outputs": [
    {
     "data": {
      "text/html": [
       "<strong>11:</strong> 3"
      ],
      "text/latex": [
       "\\textbf{11:} 3"
      ],
      "text/markdown": [
       "**11:** 3"
      ],
      "text/plain": [
       "11 \n",
       " 3 "
      ]
     },
     "metadata": {},
     "output_type": "display_data"
    }
   ],
   "source": [
    "clusterGroups[11]"
   ]
  },
  {
   "cell_type": "code",
   "execution_count": 17,
   "metadata": {
    "collapsed": true
   },
   "outputs": [],
   "source": [
    "cluster3=subset(movies,clusterGroups==3)"
   ]
  },
  {
   "cell_type": "code",
   "execution_count": 18,
   "metadata": {
    "collapsed": false
   },
   "outputs": [
    {
     "data": {
      "text/html": [
       "<ol class=list-inline>\n",
       "\t<li>Four Rooms (1995)</li>\n",
       "\t<li>Copycat (1995)</li>\n",
       "\t<li>Seven (Se7en) (1995)</li>\n",
       "\t<li>Usual Suspects, The (1995)</li>\n",
       "\t<li>From Dusk Till Dawn (1996)</li>\n",
       "\t<li>Taxi Driver (1976)</li>\n",
       "\t<li>Rumble in the Bronx (1995)</li>\n",
       "\t<li>Batman Forever (1995)</li>\n",
       "\t<li>Strange Days (1995)</li>\n",
       "\t<li>Disclosure (1994)</li>\n",
       "</ol>\n"
      ],
      "text/latex": [
       "\\begin{enumerate*}\n",
       "\\item Four Rooms (1995)\n",
       "\\item Copycat (1995)\n",
       "\\item Seven (Se7en) (1995)\n",
       "\\item Usual Suspects, The (1995)\n",
       "\\item From Dusk Till Dawn (1996)\n",
       "\\item Taxi Driver (1976)\n",
       "\\item Rumble in the Bronx (1995)\n",
       "\\item Batman Forever (1995)\n",
       "\\item Strange Days (1995)\n",
       "\\item Disclosure (1994)\n",
       "\\end{enumerate*}\n"
      ],
      "text/markdown": [
       "1. Four Rooms (1995)\n",
       "2. Copycat (1995)\n",
       "3. Seven (Se7en) (1995)\n",
       "4. Usual Suspects, The (1995)\n",
       "5. From Dusk Till Dawn (1996)\n",
       "6. Taxi Driver (1976)\n",
       "7. Rumble in the Bronx (1995)\n",
       "8. Batman Forever (1995)\n",
       "9. Strange Days (1995)\n",
       "10. Disclosure (1994)\n",
       "\n",
       "\n"
      ],
      "text/plain": [
       " [1] Four Rooms (1995)          Copycat (1995)            \n",
       " [3] Seven (Se7en) (1995)       Usual Suspects, The (1995)\n",
       " [5] From Dusk Till Dawn (1996) Taxi Driver (1976)        \n",
       " [7] Rumble in the Bronx (1995) Batman Forever (1995)     \n",
       " [9] Strange Days (1995)        Disclosure (1994)         \n",
       "1664 Levels: 'Til There Was You (1997) 1-900 (1994) ... Zeus and Roxanne (1997)"
      ]
     },
     "metadata": {},
     "output_type": "display_data"
    }
   ],
   "source": [
    "# displays movies that are in the same cluster group as Seven\n",
    "cluster3$Title[1:10]"
   ]
  }
 ],
 "metadata": {
  "kernelspec": {
   "display_name": "R",
   "language": "R",
   "name": "ir"
  },
  "language_info": {
   "codemirror_mode": "r",
   "file_extension": ".r",
   "mimetype": "text/x-r-source",
   "name": "R",
   "pygments_lexer": "r",
   "version": "3.3.1"
  }
 },
 "nbformat": 4,
 "nbformat_minor": 0
}
